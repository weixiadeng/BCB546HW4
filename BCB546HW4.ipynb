{
 "cells": [
  {
   "cell_type": "code",
   "execution_count": null,
   "metadata": {
    "colab": {
     "base_uri": "https://localhost:8080/"
    },
    "executionInfo": {
     "elapsed": 16300,
     "status": "ok",
     "timestamp": 1682328033348,
     "user": {
      "displayName": "Weixia Deng",
      "userId": "00273795013387842408"
     },
     "user_tz": 300
    },
    "id": "om6VZqbrmxS0",
    "outputId": "3db2f70f-706b-4eb0-ab7d-cb4cf43fbf58"
   },
   "outputs": [],
   "source": [
    "# pip install biopython"
   ]
  },
  {
   "cell_type": "code",
   "execution_count": 1,
   "metadata": {
    "id": "foyymttzmDvA"
   },
   "outputs": [],
   "source": [
    "from Bio import SeqIO\n",
    "from Bio.Seq import Seq\n",
    "from Bio.Data import CodonTable\n",
    "from Bio.SeqUtils.ProtParam import ProteinAnalysis\n",
    "import pandas as pd\n",
    "import numpy as np\n",
    "import matplotlib.pyplot as plt\n",
    "import requests\n",
    "from io import StringIO\n",
    "from IPython.display import Image\n",
    "from IPython.core.display import HTML"
   ]
  },
  {
   "cell_type": "markdown",
   "metadata": {
    "id": "5X_201KIUnaH"
   },
   "source": [
    "# 1\n",
    "Dr. X: this gets sequences \n",
    "Please properly document this function in the Jupyter notebook. Your descriptions of all functions should contain information about what the function does, as well as information about the return types and arguments."
   ]
  },
  {
   "cell_type": "code",
   "execution_count": 2,
   "metadata": {
    "id": "VhXg0uPIBEE1"
   },
   "outputs": [],
   "source": [
    "def get_sequences_from_file(fasta_fn):\n",
    "    # Create an empty dictionary `sequence_data_dict`\n",
    "    sequence_data_dict = {}\n",
    "    # Read `fasta_fn`, save as `SeqRecord` iterator object\n",
    "    for record in SeqIO.parse(fasta_fn, \"fasta\"):\n",
    "        # For each `record` in the `SeqRecord` iterator\n",
    "        # Split the sequence description by space, save as a list of string `description`\n",
    "        description = record.description.split()\n",
    "        # Paste 2nd and 3rd element in the `description` list, split by space\n",
    "        # Save pasted text as `species_name`\n",
    "        species_name = description[1] + \" \" + description[2]\n",
    "        # Save `species_name` and its corresponding `record` sequence\n",
    "        # as key-value pair in dictionary `sequence_data_dict`\n",
    "        sequence_data_dict[species_name] = record.seq\n",
    "    # Return as a dictionary where species name as key and sequence as value\n",
    "    return(sequence_data_dict)"
   ]
  },
  {
   "cell_type": "code",
   "execution_count": 3,
   "metadata": {
    "colab": {
     "base_uri": "https://localhost:8080/"
    },
    "executionInfo": {
     "elapsed": 490,
     "status": "ok",
     "timestamp": 1682328045975,
     "user": {
      "displayName": "Weixia Deng",
      "userId": "00273795013387842408"
     },
     "user_tz": 300
    },
    "id": "8D0mbMlVGXCc",
    "outputId": "0c7ce1c0-7058-4f50-d707-17023a91b763"
   },
   "outputs": [
    {
     "data": {
      "text/plain": [
       "{'Aptenodytes forsteri': Seq('ATGGCCCCAAATCTCCGAAAATCCCATCCCCTCCTAAAAATAATTAATAACTCC...TAA'),\n",
       " 'Aptenodytes patagonicus': Seq('ATGGCCCCAAACCTCCGAAAATCCCATCCTCTCCTAAAAATAATTAATAACTCC...TAA'),\n",
       " 'Eudyptes chrysocome': Seq('ATGGCCCCCAACCTCCGAAAATCCCACCCCCTCCTAAAAACAATCAATAACTCC...TAA'),\n",
       " 'Eudyptes chrysolophus': Seq('ATGGCCCCCAACCTCCGAAAATCCCACCCCCTCCTAAAAACAATCAATAACTCC...TAA'),\n",
       " 'Eudyptes sclateri': Seq('ATGGCCCCCAACCTCCGAAAATCCCACCCCCTCCTAAAAACAATCAATAACTCC...TAA'),\n",
       " 'Eudyptula minor': Seq('ATGGCCCCCAACCTCCGAAAATCTCACCCCCTCCTAAAAATAATCAACAACTCT...TAA'),\n",
       " 'Pygoscelis adeliae': Seq('ATGGCCCCCAACCTCCGAAAATCCCACCCTCTCCTAAAAATAATTAACAACTCC...TAA'),\n",
       " 'Pygoscelis antarctica': Seq('ATGGCCCCCAACCTCCGAAAATCCCACCCTCTCCTAAAAATAATCAACAACTCC...TAG'),\n",
       " 'Pygoscelis papua': Seq('ATGGCCCCCAACCTTCGAAAATCCCACCCTCTCCTAAAAATAATCAACAAATCC...TAG'),\n",
       " 'Spheniscus demersus': Seq('ATGGCCCCCAACCTCCGAAAATCCCACCCTCTCCTAAAAACAATCAACAACTCC...TAA'),\n",
       " 'Spheniscus humboldti': Seq('ATGGCCCCCAACCTCCGAAAATCCCACCCTCTCCTAAAAACAATCAACAACTCC...TAA'),\n",
       " 'Spheniscus magellanicus': Seq('ATGGCCCCCAACCTCCGAAAATCCCACCCTCTCCTAAAAACAATCAACAACTCC...TAA')}"
      ]
     },
     "execution_count": 3,
     "metadata": {},
     "output_type": "execute_result"
    }
   ],
   "source": [
    "# Read penguins_cytb.fasta from GitHub URL\n",
    "fasta_url = \"https://raw.githubusercontent.com/EEOB-BioData/BCB546_Spring2023/main/assignments/Python_Assignment/penguins_cytb.fasta\"\n",
    "fasta_txt = StringIO(requests.get(fasta_url).text)\n",
    "\n",
    "# Save the parsed fasta file as dictionary of species_name - sequence pairs\n",
    "fa_dict = get_sequences_from_file(fasta_txt)\n",
    "fa_dict"
   ]
  },
  {
   "cell_type": "markdown",
   "metadata": {
    "id": "nvOxuHsTU3S-"
   },
   "source": [
    "## 2\n",
    "YOUR STRING-TRANSLATE FUNCTION\n",
    "Write a function that translates sequences\n",
    "All sequences start at codon position 1\n",
    "Complete a function that translates using a loop over the string of nucleotides\n",
    "Here is  some pseudo-code and suggestions\n",
    "feel free to change the function and variable names\n",
    "```\n",
    "# def translate_function(string_nucleotides): \n",
    "#     mito_table = CodonTable.unambiguous_dna_by_name[\"Vertebrate Mitochondrial\"]\n",
    "#     this should work using BioPython (be sure to check what this returns)\n",
    "#     for-loop through every 3rd position in string_nucleotides to get the codon using range subsets\n",
    "#         # IMPORTANT: if the sequence has a stop codon at the end, you should leave it off\n",
    "#         # this is how you can retrieve the amino acid: mito_table.forward_table[codon]\n",
    "#         add the aa to aa_seq_string\n",
    "#     return(aa_seq_string)\n",
    "\n",
    "```"
   ]
  },
  {
   "cell_type": "code",
   "execution_count": 4,
   "metadata": {
    "id": "FqHr1_lRS7Lj"
   },
   "outputs": [],
   "source": [
    "def translate_function(string_nucleotides):\n",
    "    # Create the conda table\n",
    "    mito_table = CodonTable.unambiguous_dna_by_name[\"Vertebrate Mitochondrial\"]\n",
    "    # Create an empty list `aa_seq_string`\n",
    "    aa_seq_string = []\n",
    "    # Loop through every 3rd position up to the length of input sequence\n",
    "    for idx in range(0, len(string_nucleotides), 3):\n",
    "        # Subset the sequence by the index position and its following 2 base as codon\n",
    "        codon = string_nucleotides[idx:(idx+3)]\n",
    "        # Find if the amino acid of the codon in `forward_table`\n",
    "        if codon in mito_table.forward_table.keys():\n",
    "            aa = mito_table.forward_table[codon]\n",
    "        # If the sequence has a stop codon at the end, leave it off\n",
    "        if codon in mito_table.stop_codons:\n",
    "            aa = \"\"\n",
    "        # Append the amino acid to the list\n",
    "        aa_seq_string.append(aa)\n",
    "    aa_seq_string = Seq(\"\".join(aa_seq_string))\n",
    "    return(aa_seq_string)"
   ]
  },
  {
   "cell_type": "code",
   "execution_count": 5,
   "metadata": {
    "colab": {
     "base_uri": "https://localhost:8080/"
    },
    "executionInfo": {
     "elapsed": 125,
     "status": "ok",
     "timestamp": 1682328054187,
     "user": {
      "displayName": "Weixia Deng",
      "userId": "00273795013387842408"
     },
     "user_tz": 300
    },
    "id": "XjGVIwU_tCCs",
    "outputId": "acbf6627-1ccf-4376-febd-26bb8863ce88"
   },
   "outputs": [
    {
     "data": {
      "text/plain": [
       "{'Aptenodytes forsteri': Seq('MAPNLRKSHPLLKMINNSLIDLPTPSNISAWWNFGSLLGICLTTQILTGLLLAM...LNH'),\n",
       " 'Aptenodytes patagonicus': Seq('MAPNLRKSHPLLKMINNSLIDLPTPSNISAWWNFGSLLGICLTTQILTGLLLAM...LNH'),\n",
       " 'Eudyptes chrysocome': Seq('MAPNLRKSHPLLKTINNSLIDLPTPSNISAWWNFGSLLGICLATQILTGLLLAA...LNH'),\n",
       " 'Eudyptes chrysolophus': Seq('MAPNLRKSHPLLKTINNSLIDLPTPSNISAWWNFGSLLGICLATQILTGLLLAA...LNH'),\n",
       " 'Eudyptes sclateri': Seq('MAPNLRKSHPLLKTINNSLIDLPTPSNISAWWNFGSLLGICLATQILTGLLLAA...LNH'),\n",
       " 'Eudyptula minor': Seq('MAPNLRKSHPLLKMINNSLIDLPTPSNISTWWNFGSLLGICLITQILTGLLLAA...LSH'),\n",
       " 'Pygoscelis adeliae': Seq('MAPNLRKSHPLLKMINNSLIDLPTPSNISAWWNFGSLLGICLTTQILTGLLLAM...LNH'),\n",
       " 'Pygoscelis antarctica': Seq('MAPNLRKSHPLLKMINNSLIDLPTPSNISAWWNFGSLLGICLTTQILTGLLLAM...LNF'),\n",
       " 'Pygoscelis papua': Seq('MAPNLRKSHPLLKMINKSLIDLPTPPNISAWWNFGSLLGICLITQILTGLLLAM...LNF'),\n",
       " 'Spheniscus demersus': Seq('MAPNLRKSHPLLKTINNSLIDLPTPSNISAWWNFGSLLGICLATQILTGLLLAA...LNH'),\n",
       " 'Spheniscus humboldti': Seq('MAPNLRKSHPLLKTINNSLIDLPTPSNISAWWNFGSLLSICLATQILTGLLLAA...LNH'),\n",
       " 'Spheniscus magellanicus': Seq('MAPNLRKSHPLLKTINNSLIDLPTPSNISAWWNFGSLLGICLATQILTGLLLAA...LNH')}"
      ]
     },
     "execution_count": 5,
     "metadata": {},
     "output_type": "execute_result"
    }
   ],
   "source": [
    "# Sample output of `translate_function`\n",
    "fa_dict_trans = {}\n",
    "for key, value in fa_dict.items():\n",
    "    fa_dict_trans[key] = translate_function(value)\n",
    "fa_dict_trans"
   ]
  },
  {
   "cell_type": "markdown",
   "metadata": {
    "id": "AbY5gHn8twuU"
   },
   "source": [
    "## 3\n",
    "YOUR ALTERNATIVE FUNCTION\n",
    "Is there a better way to write the translation function? (Hint: yes there is.) \n",
    "Perhaps using available BioPython library utilities?\n",
    "Please also write this function."
   ]
  },
  {
   "cell_type": "code",
   "execution_count": 6,
   "metadata": {
    "id": "0d1zfUzoyKpB"
   },
   "outputs": [],
   "source": [
    "def translate_function_alt(string_nucleotides):\n",
    "    mito_table = CodonTable.unambiguous_dna_by_name[\"Vertebrate Mitochondrial\"]\n",
    "    # Use the `NCBICodonTable` to translate codon to aa\n",
    "    # If the sequence has a stop codon at the end, leave it off\n",
    "    aa_seq_string_alt = string_nucleotides.translate(table = mito_table)[:-1]\n",
    "    return(aa_seq_string_alt)"
   ]
  },
  {
   "cell_type": "code",
   "execution_count": 7,
   "metadata": {
    "colab": {
     "base_uri": "https://localhost:8080/"
    },
    "executionInfo": {
     "elapsed": 152,
     "status": "ok",
     "timestamp": 1682328066224,
     "user": {
      "displayName": "Weixia Deng",
      "userId": "00273795013387842408"
     },
     "user_tz": 300
    },
    "id": "6VS3n4ENt1sv",
    "outputId": "f0afda80-fa4b-4f15-af2d-6f5d5cb558a5"
   },
   "outputs": [
    {
     "data": {
      "text/plain": [
       "{'Aptenodytes forsteri': Seq('MAPNLRKSHPLLKMINNSLIDLPTPSNISAWWNFGSLLGICLTTQILTGLLLAM...LNH'),\n",
       " 'Aptenodytes patagonicus': Seq('MAPNLRKSHPLLKMINNSLIDLPTPSNISAWWNFGSLLGICLTTQILTGLLLAM...LNH'),\n",
       " 'Eudyptes chrysocome': Seq('MAPNLRKSHPLLKTINNSLIDLPTPSNISAWWNFGSLLGICLATQILTGLLLAA...LNH'),\n",
       " 'Eudyptes chrysolophus': Seq('MAPNLRKSHPLLKTINNSLIDLPTPSNISAWWNFGSLLGICLATQILTGLLLAA...LNH'),\n",
       " 'Eudyptes sclateri': Seq('MAPNLRKSHPLLKTINNSLIDLPTPSNISAWWNFGSLLGICLATQILTGLLLAA...LNH'),\n",
       " 'Eudyptula minor': Seq('MAPNLRKSHPLLKMINNSLIDLPTPSNISTWWNFGSLLGICLITQILTGLLLAA...LSH'),\n",
       " 'Pygoscelis adeliae': Seq('MAPNLRKSHPLLKMINNSLIDLPTPSNISAWWNFGSLLGICLTTQILTGLLLAM...LNH'),\n",
       " 'Pygoscelis antarctica': Seq('MAPNLRKSHPLLKMINNSLIDLPTPSNISAWWNFGSLLGICLTTQILTGLLLAM...LNF'),\n",
       " 'Pygoscelis papua': Seq('MAPNLRKSHPLLKMINKSLIDLPTPPNISAWWNFGSLLGICLITQILTGLLLAM...LNF'),\n",
       " 'Spheniscus demersus': Seq('MAPNLRKSHPLLKTINNSLIDLPTPSNISAWWNFGSLLGICLATQILTGLLLAA...LNH'),\n",
       " 'Spheniscus humboldti': Seq('MAPNLRKSHPLLKTINNSLIDLPTPSNISAWWNFGSLLSICLATQILTGLLLAA...LNH'),\n",
       " 'Spheniscus magellanicus': Seq('MAPNLRKSHPLLKTINNSLIDLPTPSNISAWWNFGSLLGICLATQILTGLLLAA...LNH')}"
      ]
     },
     "execution_count": 7,
     "metadata": {},
     "output_type": "execute_result"
    }
   ],
   "source": [
    "# Sample output of `translate_function_alt`\n",
    "fa_dict_trans_alt = {}\n",
    "for key, value in fa_dict.items():\n",
    "    fa_dict_trans_alt[key] = translate_function(value)\n",
    "fa_dict_trans_alt"
   ]
  },
  {
   "cell_type": "code",
   "execution_count": 8,
   "metadata": {
    "colab": {
     "base_uri": "https://localhost:8080/"
    },
    "executionInfo": {
     "elapsed": 109,
     "status": "ok",
     "timestamp": 1682328069218,
     "user": {
      "displayName": "Weixia Deng",
      "userId": "00273795013387842408"
     },
     "user_tz": 300
    },
    "id": "1s5BVwMnzCby",
    "outputId": "b99f33ad-3d60-43ee-8ed9-d0f5b8dc831a"
   },
   "outputs": [
    {
     "data": {
      "text/plain": [
       "True"
      ]
     },
     "execution_count": 8,
     "metadata": {},
     "output_type": "execute_result"
    }
   ],
   "source": [
    "# Check the alternative function `translate_function_alt` yields\n",
    "# the same output as `translate_function` in Question 2\n",
    "fa_dict_trans == fa_dict_trans_alt"
   ]
  },
  {
   "cell_type": "markdown",
   "metadata": {
    "id": "a_fA79FPzuTE"
   },
   "source": [
    "## 4\n",
    "YOUR COUNT AA ANALYSIS FUNCTION\n",
    "Write a function that calculates the molecular weight of each amino acid sequence.\n",
    "For this, you can use some BioPython functions. I think you can use the ProtParam module.\n",
    "For more info, check this out: http://biopython.org/wiki/ProtParam\n",
    "So you should import the following before defining your function:\n",
    "```\n",
    "from Bio.SeqUtils.ProtParam import ProteinAnalysis\n",
    "# def compute_molecular_weight(aa_seq):\n",
    "#     # I think the ProtParam functions may require aa_seq to be a string.\n",
    "#     # It may not work if the amino acid sequence has stop codons.\n",
    "#     run the ProteinAnalysis() function on aa_seq\n",
    "#\t  return the molecular weight\n",
    "```"
   ]
  },
  {
   "cell_type": "code",
   "execution_count": 11,
   "metadata": {
    "id": "lz9tssz5x8tV"
   },
   "outputs": [],
   "source": [
    "def compute_molecular_weight(aa_seq):\n",
    "    # Run the `ProteinAnalysis()` function on aa_seq\n",
    "    aa_analysis = ProteinAnalysis(str(aa_seq))\n",
    "    # Calculates the molecular weight of amino acid sequence\n",
    "    seq_weight = aa_analysis.molecular_weight()\n",
    "    return(seq_weight)"
   ]
  },
  {
   "cell_type": "code",
   "execution_count": 12,
   "metadata": {
    "colab": {
     "base_uri": "https://localhost:8080/"
    },
    "executionInfo": {
     "elapsed": 118,
     "status": "ok",
     "timestamp": 1682328075401,
     "user": {
      "displayName": "Weixia Deng",
      "userId": "00273795013387842408"
     },
     "user_tz": 300
    },
    "id": "Hit-dfyv4GuR",
    "outputId": "c29cf25c-a089-4fa8-b1de-4a87d1ffd4fd"
   },
   "outputs": [
    {
     "data": {
      "text/plain": [
       "{'Aptenodytes forsteri': 42459.602100000004,\n",
       " 'Aptenodytes patagonicus': 42563.70669999999,\n",
       " 'Eudyptes chrysocome': 42475.5753,\n",
       " 'Eudyptes chrysolophus': 42445.54929999999,\n",
       " 'Eudyptes sclateri': 42475.5753,\n",
       " 'Eudyptula minor': 42491.64080000001,\n",
       " 'Pygoscelis adeliae': 42458.61400000001,\n",
       " 'Pygoscelis antarctica': 42404.54230000001,\n",
       " 'Pygoscelis papua': 42595.87590000001,\n",
       " 'Spheniscus demersus': 42431.54900000002,\n",
       " 'Spheniscus humboldti': 42399.55200000001,\n",
       " 'Spheniscus magellanicus': 42459.60210000002}"
      ]
     },
     "execution_count": 12,
     "metadata": {},
     "output_type": "execute_result"
    }
   ],
   "source": [
    "# Sample output of `compute_molecular_weight`\n",
    "weight_dict = {}\n",
    "for key, value in fa_dict_trans_alt.items():\n",
    "    weight_dict[key] = compute_molecular_weight(value)\n",
    "weight_dict"
   ]
  },
  {
   "cell_type": "markdown",
   "metadata": {
    "id": "7YkdLwbw6m9V"
   },
   "source": [
    "## 5\n",
    "YOUR GC CONTENT ANALYSIS FUNCTION\n",
    "Write a function that calculates the GC-content (proportion of \"G\" and \"C\") of each DNA sequence and returns this value.\n",
    "\n",
    "```\n",
    "#%%%%%%%%%%%%%%#\n",
    "###   MAIN   ###\n",
    "#%%%%%%%%%%%%%%#\n",
    "\n",
    "cytb_seqs = get_sequences_from_file(\"penguins_cytb.fasta\") \n",
    "\n",
    "penguins_df = pd.read_csv(\"penguins_mass.csv\") # Includes only data for body mass \n",
    "species_list = list(penguins_df.species)\n",
    "```"
   ]
  },
  {
   "cell_type": "code",
   "execution_count": 13,
   "metadata": {
    "id": "jcFCkoog7i6a"
   },
   "outputs": [],
   "source": [
    "def GC_content(string_nucleotides):\n",
    "    # Count \"G\" and \"C\" in sequence\n",
    "    GC_count = string_nucleotides.count(\"G\") + string_nucleotides.count(\"C\")\n",
    "    # Calculate the proportion of \"G\" and \"C\"\n",
    "    GC_proportion = GC_count/len(string_nucleotides)\n",
    "    return(GC_proportion)"
   ]
  },
  {
   "cell_type": "code",
   "execution_count": 14,
   "metadata": {
    "colab": {
     "base_uri": "https://localhost:8080/"
    },
    "executionInfo": {
     "elapsed": 180,
     "status": "ok",
     "timestamp": 1682328086961,
     "user": {
      "displayName": "Weixia Deng",
      "userId": "00273795013387842408"
     },
     "user_tz": 300
    },
    "id": "M7s6UDiw9aQI",
    "outputId": "110730d6-9f57-44c5-e000-c06b04a2837e"
   },
   "outputs": [
    {
     "data": {
      "text/plain": [
       "{'Aptenodytes forsteri': 0.48381452318460194,\n",
       " 'Aptenodytes patagonicus': 0.4969378827646544,\n",
       " 'Eudyptes chrysocome': 0.5118110236220472,\n",
       " 'Eudyptes chrysolophus': 0.5091863517060368,\n",
       " 'Eudyptes sclateri': 0.5083114610673666,\n",
       " 'Eudyptula minor': 0.4925634295713036,\n",
       " 'Pygoscelis adeliae': 0.49081364829396323,\n",
       " 'Pygoscelis antarctica': 0.4776902887139108,\n",
       " 'Pygoscelis papua': 0.4715660542432196,\n",
       " 'Spheniscus demersus': 0.48293963254593175,\n",
       " 'Spheniscus humboldti': 0.4925634295713036,\n",
       " 'Spheniscus magellanicus': 0.4820647419072616}"
      ]
     },
     "execution_count": 14,
     "metadata": {},
     "output_type": "execute_result"
    }
   ],
   "source": [
    "# Output of `GC_content` function\n",
    "GC_dict = {}\n",
    "for key, value in fa_dict.items():\n",
    "    GC_dict[key] = GC_content(value)\n",
    "GC_dict"
   ]
  },
  {
   "cell_type": "markdown",
   "metadata": {
    "id": "p2nQmF6L_OFm"
   },
   "source": [
    "## 6\n",
    "Add two new columns to the penguin DataFrame: (1) molecular weight and (2) GC content.\n",
    "Set the value to 'NaN' to indicate that these cells are currently empty."
   ]
  },
  {
   "cell_type": "code",
   "execution_count": 15,
   "metadata": {
    "colab": {
     "base_uri": "https://localhost:8080/",
     "height": 421
    },
    "executionInfo": {
     "elapsed": 404,
     "status": "ok",
     "timestamp": 1682328090926,
     "user": {
      "displayName": "Weixia Deng",
      "userId": "00273795013387842408"
     },
     "user_tz": 300
    },
    "id": "ZKIOQ7IX9tDb",
    "outputId": "fc1559dd-2f18-4d8a-ecf0-e9d09c77d62c"
   },
   "outputs": [
    {
     "data": {
      "text/html": [
       "<div>\n",
       "<style scoped>\n",
       "    .dataframe tbody tr th:only-of-type {\n",
       "        vertical-align: middle;\n",
       "    }\n",
       "\n",
       "    .dataframe tbody tr th {\n",
       "        vertical-align: top;\n",
       "    }\n",
       "\n",
       "    .dataframe thead th {\n",
       "        text-align: right;\n",
       "    }\n",
       "</style>\n",
       "<table border=\"1\" class=\"dataframe\">\n",
       "  <thead>\n",
       "    <tr style=\"text-align: right;\">\n",
       "      <th></th>\n",
       "      <th>species</th>\n",
       "      <th>mass</th>\n",
       "      <th>molecular_weight</th>\n",
       "      <th>GC_content</th>\n",
       "    </tr>\n",
       "  </thead>\n",
       "  <tbody>\n",
       "    <tr>\n",
       "      <th>0</th>\n",
       "      <td>Aptenodytes forsteri</td>\n",
       "      <td>28.00</td>\n",
       "      <td>NaN</td>\n",
       "      <td>NaN</td>\n",
       "    </tr>\n",
       "    <tr>\n",
       "      <th>1</th>\n",
       "      <td>Aptenodytes patagonicus</td>\n",
       "      <td>13.40</td>\n",
       "      <td>NaN</td>\n",
       "      <td>NaN</td>\n",
       "    </tr>\n",
       "    <tr>\n",
       "      <th>2</th>\n",
       "      <td>Eudyptes chrysocome</td>\n",
       "      <td>2.80</td>\n",
       "      <td>NaN</td>\n",
       "      <td>NaN</td>\n",
       "    </tr>\n",
       "    <tr>\n",
       "      <th>3</th>\n",
       "      <td>Eudyptes chrysolophus</td>\n",
       "      <td>4.50</td>\n",
       "      <td>NaN</td>\n",
       "      <td>NaN</td>\n",
       "    </tr>\n",
       "    <tr>\n",
       "      <th>4</th>\n",
       "      <td>Eudyptes sclateri</td>\n",
       "      <td>4.25</td>\n",
       "      <td>NaN</td>\n",
       "      <td>NaN</td>\n",
       "    </tr>\n",
       "    <tr>\n",
       "      <th>5</th>\n",
       "      <td>Eudyptula minor</td>\n",
       "      <td>1.60</td>\n",
       "      <td>NaN</td>\n",
       "      <td>NaN</td>\n",
       "    </tr>\n",
       "    <tr>\n",
       "      <th>6</th>\n",
       "      <td>Pygoscelis adeliae</td>\n",
       "      <td>4.60</td>\n",
       "      <td>NaN</td>\n",
       "      <td>NaN</td>\n",
       "    </tr>\n",
       "    <tr>\n",
       "      <th>7</th>\n",
       "      <td>Pygoscelis antarctica</td>\n",
       "      <td>4.10</td>\n",
       "      <td>NaN</td>\n",
       "      <td>NaN</td>\n",
       "    </tr>\n",
       "    <tr>\n",
       "      <th>8</th>\n",
       "      <td>Pygoscelis papua</td>\n",
       "      <td>6.10</td>\n",
       "      <td>NaN</td>\n",
       "      <td>NaN</td>\n",
       "    </tr>\n",
       "    <tr>\n",
       "      <th>9</th>\n",
       "      <td>Spheniscus demersus</td>\n",
       "      <td>3.20</td>\n",
       "      <td>NaN</td>\n",
       "      <td>NaN</td>\n",
       "    </tr>\n",
       "    <tr>\n",
       "      <th>10</th>\n",
       "      <td>Spheniscus humboldti</td>\n",
       "      <td>4.75</td>\n",
       "      <td>NaN</td>\n",
       "      <td>NaN</td>\n",
       "    </tr>\n",
       "    <tr>\n",
       "      <th>11</th>\n",
       "      <td>Spheniscus magellanicus</td>\n",
       "      <td>3.40</td>\n",
       "      <td>NaN</td>\n",
       "      <td>NaN</td>\n",
       "    </tr>\n",
       "  </tbody>\n",
       "</table>\n",
       "</div>"
      ],
      "text/plain": [
       "                    species   mass  molecular_weight  GC_content\n",
       "0      Aptenodytes forsteri  28.00               NaN         NaN\n",
       "1   Aptenodytes patagonicus  13.40               NaN         NaN\n",
       "2       Eudyptes chrysocome   2.80               NaN         NaN\n",
       "3     Eudyptes chrysolophus   4.50               NaN         NaN\n",
       "4         Eudyptes sclateri   4.25               NaN         NaN\n",
       "5           Eudyptula minor   1.60               NaN         NaN\n",
       "6        Pygoscelis adeliae   4.60               NaN         NaN\n",
       "7     Pygoscelis antarctica   4.10               NaN         NaN\n",
       "8          Pygoscelis papua   6.10               NaN         NaN\n",
       "9       Spheniscus demersus   3.20               NaN         NaN\n",
       "10     Spheniscus humboldti   4.75               NaN         NaN\n",
       "11  Spheniscus magellanicus   3.40               NaN         NaN"
      ]
     },
     "execution_count": 15,
     "metadata": {},
     "output_type": "execute_result"
    }
   ],
   "source": [
    "# Read penguins_cytb.fasta from GitHub URL\n",
    "fasta_url = \"https://raw.githubusercontent.com/EEOB-BioData/BCB546_Spring2023/main/assignments/Python_Assignment/penguins_cytb.fasta\"\n",
    "fasta_txt = StringIO(requests.get(fasta_url).text)\n",
    "cytb_seqs = get_sequences_from_file(fasta_txt)\n",
    "\n",
    "# Read penguins_mass.csv from Github URL\n",
    "csv_url = \"https://raw.githubusercontent.com/EEOB-BioData/BCB546_Spring2023/main/assignments/Python_Assignment/penguins_mass.csv\"\n",
    "penguins_df = pd.read_csv(csv_url)\n",
    "species_list = list(penguins_df.species)\n",
    "\n",
    "# Add two new columns to the penguin DataFrame\n",
    "penguins_df[\"molecular_weight\"] = np.nan\n",
    "penguins_df[\"GC_content\"] = np.nan\n",
    "penguins_df"
   ]
  },
  {
   "cell_type": "markdown",
   "metadata": {
    "id": "Y30ZcDxDFV7E"
   },
   "source": [
    "## 7\n",
    "Write a for-loop that translates each sequence and also gets molecular weight and computes the GC content\n",
    "of each translated sequence and adds those data to DataFrame\n",
    "\n",
    "```\n",
    "# for key, value in cytb_seqs.items():\n",
    "#     aa_seq = nuc2aa_translate_function(value) # whichever function you prefer of #2 or #3\n",
    "#     get the molecular weight of aa_seq\n",
    "#     get the GC content of the DNA sequence\n",
    "#     fill in empty cells in DF that you created above\n",
    "```"
   ]
  },
  {
   "cell_type": "code",
   "execution_count": 16,
   "metadata": {
    "colab": {
     "base_uri": "https://localhost:8080/",
     "height": 421
    },
    "executionInfo": {
     "elapsed": 124,
     "status": "ok",
     "timestamp": 1682328095445,
     "user": {
      "displayName": "Weixia Deng",
      "userId": "00273795013387842408"
     },
     "user_tz": 300
    },
    "id": "FDwZ4HGCFRKr",
    "outputId": "b6a0cb03-0d0f-4dab-8ec3-009bd930ed07"
   },
   "outputs": [
    {
     "data": {
      "text/html": [
       "<div>\n",
       "<style scoped>\n",
       "    .dataframe tbody tr th:only-of-type {\n",
       "        vertical-align: middle;\n",
       "    }\n",
       "\n",
       "    .dataframe tbody tr th {\n",
       "        vertical-align: top;\n",
       "    }\n",
       "\n",
       "    .dataframe thead th {\n",
       "        text-align: right;\n",
       "    }\n",
       "</style>\n",
       "<table border=\"1\" class=\"dataframe\">\n",
       "  <thead>\n",
       "    <tr style=\"text-align: right;\">\n",
       "      <th></th>\n",
       "      <th>species</th>\n",
       "      <th>mass</th>\n",
       "      <th>molecular_weight</th>\n",
       "      <th>GC_content</th>\n",
       "    </tr>\n",
       "  </thead>\n",
       "  <tbody>\n",
       "    <tr>\n",
       "      <th>0</th>\n",
       "      <td>Aptenodytes forsteri</td>\n",
       "      <td>28.00</td>\n",
       "      <td>42459.6021</td>\n",
       "      <td>0.483815</td>\n",
       "    </tr>\n",
       "    <tr>\n",
       "      <th>1</th>\n",
       "      <td>Aptenodytes patagonicus</td>\n",
       "      <td>13.40</td>\n",
       "      <td>42563.7067</td>\n",
       "      <td>0.496938</td>\n",
       "    </tr>\n",
       "    <tr>\n",
       "      <th>2</th>\n",
       "      <td>Eudyptes chrysocome</td>\n",
       "      <td>2.80</td>\n",
       "      <td>42475.5753</td>\n",
       "      <td>0.511811</td>\n",
       "    </tr>\n",
       "    <tr>\n",
       "      <th>3</th>\n",
       "      <td>Eudyptes chrysolophus</td>\n",
       "      <td>4.50</td>\n",
       "      <td>42445.5493</td>\n",
       "      <td>0.509186</td>\n",
       "    </tr>\n",
       "    <tr>\n",
       "      <th>4</th>\n",
       "      <td>Eudyptes sclateri</td>\n",
       "      <td>4.25</td>\n",
       "      <td>42475.5753</td>\n",
       "      <td>0.508311</td>\n",
       "    </tr>\n",
       "    <tr>\n",
       "      <th>5</th>\n",
       "      <td>Eudyptula minor</td>\n",
       "      <td>1.60</td>\n",
       "      <td>42491.6408</td>\n",
       "      <td>0.492563</td>\n",
       "    </tr>\n",
       "    <tr>\n",
       "      <th>6</th>\n",
       "      <td>Pygoscelis adeliae</td>\n",
       "      <td>4.60</td>\n",
       "      <td>42458.6140</td>\n",
       "      <td>0.490814</td>\n",
       "    </tr>\n",
       "    <tr>\n",
       "      <th>7</th>\n",
       "      <td>Pygoscelis antarctica</td>\n",
       "      <td>4.10</td>\n",
       "      <td>42404.5423</td>\n",
       "      <td>0.477690</td>\n",
       "    </tr>\n",
       "    <tr>\n",
       "      <th>8</th>\n",
       "      <td>Pygoscelis papua</td>\n",
       "      <td>6.10</td>\n",
       "      <td>42595.8759</td>\n",
       "      <td>0.471566</td>\n",
       "    </tr>\n",
       "    <tr>\n",
       "      <th>9</th>\n",
       "      <td>Spheniscus demersus</td>\n",
       "      <td>3.20</td>\n",
       "      <td>42431.5490</td>\n",
       "      <td>0.482940</td>\n",
       "    </tr>\n",
       "    <tr>\n",
       "      <th>10</th>\n",
       "      <td>Spheniscus humboldti</td>\n",
       "      <td>4.75</td>\n",
       "      <td>42399.5520</td>\n",
       "      <td>0.492563</td>\n",
       "    </tr>\n",
       "    <tr>\n",
       "      <th>11</th>\n",
       "      <td>Spheniscus magellanicus</td>\n",
       "      <td>3.40</td>\n",
       "      <td>42459.6021</td>\n",
       "      <td>0.482065</td>\n",
       "    </tr>\n",
       "  </tbody>\n",
       "</table>\n",
       "</div>"
      ],
      "text/plain": [
       "                    species   mass  molecular_weight  GC_content\n",
       "0      Aptenodytes forsteri  28.00        42459.6021    0.483815\n",
       "1   Aptenodytes patagonicus  13.40        42563.7067    0.496938\n",
       "2       Eudyptes chrysocome   2.80        42475.5753    0.511811\n",
       "3     Eudyptes chrysolophus   4.50        42445.5493    0.509186\n",
       "4         Eudyptes sclateri   4.25        42475.5753    0.508311\n",
       "5           Eudyptula minor   1.60        42491.6408    0.492563\n",
       "6        Pygoscelis adeliae   4.60        42458.6140    0.490814\n",
       "7     Pygoscelis antarctica   4.10        42404.5423    0.477690\n",
       "8          Pygoscelis papua   6.10        42595.8759    0.471566\n",
       "9       Spheniscus demersus   3.20        42431.5490    0.482940\n",
       "10     Spheniscus humboldti   4.75        42399.5520    0.492563\n",
       "11  Spheniscus magellanicus   3.40        42459.6021    0.482065"
      ]
     },
     "execution_count": 16,
     "metadata": {},
     "output_type": "execute_result"
    }
   ],
   "source": [
    "for key, value in cytb_seqs.items():\n",
    "    aa_seq = translate_function_alt(value)\n",
    "    molecular_weight = compute_molecular_weight(aa_seq)\n",
    "    GC_prop = GC_content(value)\n",
    "    row_idx = int(np.where(penguins_df['species'] == key)[0])\n",
    "    penguins_df.at[row_idx, 'molecular_weight'] = molecular_weight\n",
    "    penguins_df.at[row_idx, 'GC_content'] = GC_prop\n",
    "\n",
    "penguins_df"
   ]
  },
  {
   "cell_type": "markdown",
   "metadata": {
    "id": "Vh-6A9ojRc7U"
   },
   "source": [
    "## 8\n",
    "Plot a bar-chart of the mass with the x-axes labeled with species names.\n",
    "*Q1* What is the smallest penguin species? \n",
    "*Q2* What is the geographical range of this species?"
   ]
  },
  {
   "cell_type": "code",
   "execution_count": 17,
   "metadata": {
    "colab": {
     "base_uri": "https://localhost:8080/",
     "height": 669
    },
    "executionInfo": {
     "elapsed": 411,
     "status": "ok",
     "timestamp": 1682328099640,
     "user": {
      "displayName": "Weixia Deng",
      "userId": "00273795013387842408"
     },
     "user_tz": 300
    },
    "id": "1HxjHRj7Rg-7",
    "outputId": "57c6efa4-c88c-41a2-f49d-e26db503a360"
   },
   "outputs": [
    {
     "name": "stderr",
     "output_type": "stream",
     "text": [
      "/var/folders/5m/t_5pbwrs1wb3w0hmphmlbdzh0000gs/T/ipykernel_11350/3340726553.py:6: UserWarning: FixedFormatter should only be used together with FixedLocator\n",
      "  ax.set_xticklabels(penguins_df[\"species\"], rotation = 90)\n"
     ]
    },
    {
     "data": {
      "image/png": "[encoded data removed]",
      "text/plain": [
       "<Figure size 640x480 with 1 Axes>"
      ]
     },
     "metadata": {},
     "output_type": "display_data"
    }
   ],
   "source": [
    "fig, ax = plt.subplots()\n",
    "\n",
    "ax.bar(\"species\", \"mass\", data = penguins_df)\n",
    "ax.set_title(\"Bar-chart of the penguins species vs mass\")\n",
    "ax.set_xlabel(\"Species\")\n",
    "ax.set_xticklabels(penguins_df[\"species\"], rotation = 90)\n",
    "ax.set_ylabel(\"Mass\")\n",
    "\n",
    "plt.show()"
   ]
  },
  {
   "cell_type": "code",
   "execution_count": 18,
   "metadata": {
    "colab": {
     "base_uri": "https://localhost:8080/",
     "height": 686
    },
    "executionInfo": {
     "elapsed": 127,
     "status": "ok",
     "timestamp": 1682328103244,
     "user": {
      "displayName": "Weixia Deng",
      "userId": "00273795013387842408"
     },
     "user_tz": 300
    },
    "id": "MjDV8yqXXbt7",
    "outputId": "df4be7c2-17c4-436e-8411-a22fcf247704"
   },
   "outputs": [
    {
     "data": {
      "text/html": [
       "<img src=\"https://upload.wikimedia.org/wikipedia/commons/3/38/Eudyptula_minor_Bruny_1.jpg\" width=\"600\"/>"
      ],
      "text/plain": [
       "<IPython.core.display.Image object>"
      ]
     },
     "execution_count": 18,
     "metadata": {},
     "output_type": "execute_result"
    }
   ],
   "source": [
    "# Image of Eudyptula minor\n",
    "Image(url = \"https://upload.wikimedia.org/wikipedia/commons/3/38/Eudyptula_minor_Bruny_1.jpg\",  width = 600)"
   ]
  },
  {
   "cell_type": "markdown",
   "metadata": {
    "id": "_DOia_sGeFMB"
   },
   "source": [
    "*Q1* What is the smallest penguin species?  \n",
    "\n",
    "Eudyptula minor. \n",
    "\n",
    "\n",
    "*Q2* What is the geographical range of this species?  \n",
    "\n",
    "The little penguin (Eudyptula minor) is a species of penguin from New Zealand.\n",
    "\n",
    "Reference: https://en.wikipedia.org/wiki/Little_penguin\n",
    "\n"
   ]
  },
  {
   "cell_type": "markdown",
   "metadata": {
    "id": "3wLC5PsxfD64"
   },
   "source": [
    "## 9\n",
    "Plot a visualization of the molecular weight (y-axis) as a function of GC-content (x-axis)."
   ]
  },
  {
   "cell_type": "code",
   "execution_count": 19,
   "metadata": {
    "colab": {
     "base_uri": "https://localhost:8080/",
     "height": 489
    },
    "executionInfo": {
     "elapsed": 463,
     "status": "ok",
     "timestamp": 1682328110242,
     "user": {
      "displayName": "Weixia Deng",
      "userId": "00273795013387842408"
     },
     "user_tz": 300
    },
    "id": "xd831kyPeHJ-",
    "outputId": "5a978557-45d8-4091-80fc-26fc863c9610"
   },
   "outputs": [
    {
     "data": {
      "text/plain": [
       "Text(0, 0.5, 'Molecular Weight')"
      ]
     },
     "execution_count": 19,
     "metadata": {},
     "output_type": "execute_result"
    },
    {
     "data": {
      "image/png": "[encoded data removed]",
      "text/plain": [
       "<Figure size 640x480 with 1 Axes>"
      ]
     },
     "metadata": {},
     "output_type": "display_data"
    }
   ],
   "source": [
    "plt.scatter(\"GC_content\", \"molecular_weight\", data = penguins_df)\n",
    "plt.title(\"Scatter plot of the penguins GC content vs molecular weight\")\n",
    "plt.xlabel(\"GC content\")\n",
    "plt.ylabel(\"Molecular Weight\")"
   ]
  },
  {
   "cell_type": "markdown",
   "metadata": {
    "id": "2V68zXxUiBCQ"
   },
   "source": [
    "## 10\n",
    "Save the new DataFrame to a file called \"penguins_mass_cytb.csv\""
   ]
  },
  {
   "cell_type": "code",
   "execution_count": 20,
   "metadata": {
    "id": "pgDW4uI_h7a2"
   },
   "outputs": [],
   "source": [
    "penguins_df.to_csv(\"penguins_mass_cytb.csv\")"
   ]
  },
  {
   "cell_type": "markdown",
   "metadata": {
    "id": "Jddh8gDOiTi_"
   },
   "source": [
    "## 11 - BONUS\n",
    "What else can we do with this dataset in Python? \n",
    "Add functions or anything that might be interesting and fun. (optional)"
   ]
  },
  {
   "cell_type": "code",
   "execution_count": null,
   "metadata": {
    "id": "lqgbMG9tki8l"
   },
   "outputs": [],
   "source": []
  }
 ],
 "metadata": {
  "colab": {
   "authorship_tag": "ABX9TyO+hVGrGicvE2Dyxk4OLA50",
   "provenance": []
  },
  "kernelspec": {
   "display_name": "Python 3 (ipykernel)",
   "language": "python",
   "name": "python3"
  },
  "language_info": {
   "codemirror_mode": {
    "name": "ipython",
    "version": 3
   },
   "file_extension": ".py",
   "mimetype": "text/x-python",
   "name": "python",
   "nbconvert_exporter": "python",
   "pygments_lexer": "ipython3",
   "version": "3.10.9"
  }
 },
 "nbformat": 4,
 "nbformat_minor": 4
}
